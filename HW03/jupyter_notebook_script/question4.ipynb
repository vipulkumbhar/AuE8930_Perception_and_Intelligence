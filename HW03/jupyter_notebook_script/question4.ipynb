{
 "cells": [
  {
   "cell_type": "code",
   "execution_count": 7,
   "metadata": {},
   "outputs": [
    {
     "name": "stdout",
     "output_type": "stream",
     "text": [
      "LiDAR data loaded as a variable pointcloud\n",
      "\n",
      "Lidar data file : bin_files/002_00000001.bin\n",
      "Size of pointcloud data = (92246, 4)\n"
     ]
    }
   ],
   "source": [
    "import numpy as np \n",
    "import argparse\n",
    "\n",
    "filename   = str(\"bin_files/002_00000001.bin\")\n",
    "pointcloud = np.fromfile(filename, dtype=np.float32)\n",
    "pointcloud = pointcloud.reshape([-1,4])\n",
    "\n",
    "print('LiDAR data loaded as a variable pointcloud')\n",
    "\n",
    "str1= str('\\nLidar data file : ') + str(filename) + str('\\nSize of pointcloud data = ') + str(pointcloud.shape)\n",
    "print(str1)"
   ]
  },
  {
   "cell_type": "code",
   "execution_count": 8,
   "metadata": {},
   "outputs": [],
   "source": [
    "def visualize_3d(pointcloud,cloud_color,Point_size):\n",
    "    import pptk\n",
    "    import numpy as np \n",
    "    \n",
    "    # Extract first three points as x y z inputs and 4th for reflectivity value\n",
    "    P = pointcloud[:,0:3]\n",
    "    \n",
    "    a = pointcloud.shape[0]\n",
    "    R = np.ones((a))*20\n",
    "    \n",
    "    if pointcloud.shape[1]==4:\n",
    "        R   = pointcloud[:,3]\n",
    "    \n",
    "    # define color channels\n",
    "    rgb = np.ones((P.shape))*cloud_color    # for grayish effect [200,200,200]\n",
    "    \n",
    "    rgb[:,0] = rgb[:,0]*(255-R)/255\n",
    "    rgb[:,1] = rgb[:,1]*(255-R)/255\n",
    "    rgb[:,2] = rgb[:,2]*(255-R)/255\n",
    "    \n",
    "    if len(cloud_color)>3:\n",
    "        rgb = cloud_color\n",
    "    \n",
    "    # Visualize point cloud\n",
    "    v = pptk.viewer(P)\n",
    "    v.attributes(rgb / 255, R)\n",
    "    v.set(floor_color = [0,0,0,0.5])\n",
    "    v.set(show_grid=0)\n",
    "    v.set(lookat = [0,0,0])             # set zero /ego vehicle coordinate\n",
    "    v.set(point_size=Point_size)        # for better visualization point_size = 0.001\n",
    "    v.color_map('cool', scale=[0, 5])\n",
    "    v.color_map([[0, 0, 0], [1, 1, 1]])"
   ]
  },
  {
   "cell_type": "code",
   "execution_count": 9,
   "metadata": {
    "scrolled": true
   },
   "outputs": [
    {
     "name": "stdout",
     "output_type": "stream",
     "text": [
      "Model coefficients: 0.0145805468783 0.00373710296117 0.99988669157 1.55821990967\n",
      "Model inliers: 39196\n",
      "4\n"
     ]
    }
   ],
   "source": [
    "import pcl\n",
    "\n",
    "cloud = pcl.PointCloud(np.array(pointcloud[:,0:3], dtype=np.float32))\n",
    "seg   = cloud.make_segmenter_normals(ksearch=50)\n",
    "\n",
    "seg.set_optimize_coefficients(True)\n",
    "seg.set_model_type(pcl.SACMODEL_PLANE)\n",
    "seg.set_normal_distance_weight(0.07)\n",
    "seg.set_method_type(pcl.SAC_RANSAC)\n",
    "\n",
    "seg.set_max_iterations(100)\n",
    "seg.set_distance_threshold(0.25)\n",
    "\n",
    "inliers, model = seg.segment()\n",
    "\n",
    "if len(inliers) == 0:\n",
    "        print('Could not estimate a planar model for the given dataset.')\n",
    "        exit(0)\n",
    "\n",
    "#Points here is a nx3 numpy array with n 3d points. \n",
    "#Model will be [a, b, c, d] such that ax + by + cz + d = 0\n",
    "print('Model coefficients: ' + str(model[0]) + ' ' + str(model[1]) + ' ' + str(model[2]) + ' ' + str(model[3]))\n",
    "print('Model inliers: ' + str(len(inliers)))\n",
    "print(len(model))"
   ]
  },
  {
   "cell_type": "markdown",
   "metadata": {},
   "source": [
    "### Simple top view projection of all pointcloud points ( x,y co-ordinates )"
   ]
  },
  {
   "cell_type": "code",
   "execution_count": 10,
   "metadata": {},
   "outputs": [],
   "source": [
    "def point_cloud_top_view(velo,fwd_range,side_range,height_range,name = 'fig_name'):\n",
    "    \n",
    "    import matplotlib.pyplot as plt\n",
    "    from matplotlib.patches import Rectangle\n",
    "    from PIL import Image\n",
    "    import numpy as np \n",
    "    \n",
    "    x_points = velo[:, 0]\n",
    "    y_points = velo[:, 1]\n",
    "    z_points = velo[:, 2]\n",
    "    r        = velo[:, 3]\n",
    "    \n",
    "    f_filt   = np.logical_and((x_points > fwd_range[0]), (x_points < fwd_range[1]))\n",
    "    s_filt   = np.logical_and((y_points > -side_range[1]), (y_points < -side_range[0]))\n",
    "    filter   = np.logical_and(f_filt, s_filt)\n",
    "    indices  = np.argwhere(filter).flatten()\n",
    "    \n",
    "    # KEEPERS\n",
    "    x_points = x_points[indices]\n",
    "    y_points = y_points[indices]\n",
    "    z_points = z_points[indices]\n",
    "    r_points = r[indices]\n",
    "    \n",
    "    res      = 0.05\n",
    "    # CONVERT TO PIXEL POSITION VALUES - Based on resolution\n",
    "    x_img    = (-y_points / res).astype(np.int32)  # x axis is -y in LIDAR\n",
    "    y_img    = (-x_points / res).astype(np.int32)  # y axis is -x in LIDAR\n",
    "    \n",
    "    # SHIFT PIXELS TO HAVE MINIMUM BE (0,0)\n",
    "    # floor and ceil used to prevent anything being rounded to below 0 after shift\n",
    "    x_img   -= int(np.floor(side_range[0] / res))\n",
    "    y_img   += int(np.ceil(fwd_range[1] / res))\n",
    "\n",
    "    # CLIP HEIGHT VALUES - to between min and max heights\n",
    "    pixel_values = np.clip(a     = z_points,\n",
    "                           a_min = height_range[0],\n",
    "                           a_max = height_range[1])\n",
    "    \n",
    "    def scale_to_255(a, min, max, dtype = np.uint8):\n",
    "        return (((a - min) / float(max - min)) * 255).astype(dtype)\n",
    "\n",
    "    # RESCALE THE HEIGHT VALUES - to be between the range 0-255\n",
    "    pixel_values  = scale_to_255(pixel_values, min = height_range[0], max = height_range[1])\n",
    "    \n",
    "    # INITIALIZE EMPTY ARRAY - of the dimensions we want\n",
    "    x_max = 1+int((side_range[1] - side_range[0])/res)\n",
    "    y_max = 1+int((fwd_range[1] - fwd_range[0])/res)\n",
    "    im    = np.zeros([y_max, x_max], dtype=np.uint8)\n",
    "\n",
    "    # FILL PIXEL VALUES IN IMAGE ARRAY\n",
    "    im[y_img, x_img]   =r_points # pixel_values\n",
    "        \n",
    "    plt.figure(figsize = (10,10))\n",
    "    a = plt.imshow(im,vmin = 0, vmax=255)\n",
    "    \n",
    "    ax = plt.gca()\n",
    "    rect = Rectangle((580,565),40,70,linewidth=1,edgecolor='r',facecolor='none')\n",
    "    ax.add_patch(rect)\n",
    "    #plt.text(600,575, \"Ego Vehicle\",horizontalalignment='center',rotation='vertical',color='red')\n",
    "    \n",
    "    return a"
   ]
  },
  {
   "cell_type": "code",
   "execution_count": 11,
   "metadata": {},
   "outputs": [],
   "source": [
    "abc = np.arange(0,pointcloud.shape[0],1)\n",
    "outliers = np.delete(abc,inliers)\n",
    "# Visualize off ground plane points\n",
    "off_ground_pointcloud = pointcloud[outliers,:]"
   ]
  },
  {
   "cell_type": "code",
   "execution_count": 12,
   "metadata": {
    "scrolled": false
   },
   "outputs": [
    {
     "data": {
      "image/png": "[encoded data removed]",
      "text/plain": [
       "<Figure size 720x720 with 1 Axes>"
      ]
     },
     "metadata": {
      "needs_background": "light"
     },
     "output_type": "display_data"
    }
   ],
   "source": [
    "side_range   = (-30, 30)  # left-most to right-most\n",
    "fwd_range    = (-30, 30)    # back-most to forward-most\n",
    "height_range = (-3, 5)  # bottom-most to upper-most\n",
    "fig_name     = str('point_cloud_data_top_view')\n",
    "\n",
    "a = point_cloud_top_view(off_ground_pointcloud,fwd_range,side_range,height_range,name ='fig_name')"
   ]
  },
  {
   "cell_type": "markdown",
   "metadata": {},
   "source": [
    "### Ground plane projection of off ground pointcloud points ( gives x,y,z co-ordinates )"
   ]
  },
  {
   "cell_type": "code",
   "execution_count": 13,
   "metadata": {},
   "outputs": [],
   "source": [
    "a = model[0]\n",
    "b = model[1]\n",
    "c = model[2]\n",
    "d = model[3]\n",
    "u = off_ground_pointcloud[:,0]\n",
    "v = off_ground_pointcloud[:,1]\n",
    "w = off_ground_pointcloud[:,2]\n",
    "\n",
    "ground_projection_pointcloud = np.zeros([off_ground_pointcloud.shape[0],3])\n",
    "\n",
    "for i in range(off_ground_pointcloud.shape[0]):\n",
    "    ground_projection_pointcloud[i,0]= u[i] - a*(a*u[i]+b*v[i]+c*w[i]+d)/(a*a+b*b+c*c)\n",
    "    ground_projection_pointcloud[i,1]= v[i] - b*(a*u[i]+b*v[i]+c*w[i]+d)/(a*a+b*b+c*c)\n",
    "    ground_projection_pointcloud[i,2]= w[i] - c*(a*u[i]+b*v[i]+c*w[i]+d)/(a*a+b*b+c*c)"
   ]
  },
  {
   "cell_type": "code",
   "execution_count": 14,
   "metadata": {},
   "outputs": [],
   "source": [
    "visualize_3d(ground_projection_pointcloud,[200,200,200],0.005)"
   ]
  },
  {
   "cell_type": "code",
   "execution_count": null,
   "metadata": {},
   "outputs": [],
   "source": []
  }
 ],
 "metadata": {
  "kernelspec": {
   "display_name": "Python 2",
   "language": "python",
   "name": "python2"
  },
  "language_info": {
   "codemirror_mode": {
    "name": "ipython",
    "version": 2
   },
   "file_extension": ".py",
   "mimetype": "text/x-python",
   "name": "python",
   "nbconvert_exporter": "python",
   "pygments_lexer": "ipython2",
   "version": "2.7.16"
  }
 },
 "nbformat": 4,
 "nbformat_minor": 2
}
