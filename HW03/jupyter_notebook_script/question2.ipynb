{
 "cells": [
  {
   "cell_type": "markdown",
   "metadata": {},
   "source": [
    "# HW03\n",
    "### Question 2: Choose a 3-D resolution granularity, perform voxel filter (or box grid filter) to down-sample all the 3D point cloud points to the 3D voxel space points, and visualize the result points"
   ]
  },
  {
   "cell_type": "code",
   "execution_count": 1,
   "metadata": {
    "scrolled": true
   },
   "outputs": [
    {
     "name": "stdout",
     "output_type": "stream",
     "text": [
      "LiDAR data loaded as a variable pointcloud\n",
      "\n",
      "Lidar data file : bin_files/002_00000001.bin\n",
      "Size of pointcloud data = (92246, 4)\n"
     ]
    }
   ],
   "source": [
    "import numpy as np \n",
    "import argparse\n",
    "\n",
    "filename   = str(\"bin_files/002_00000001.bin\")\n",
    "pointcloud = np.fromfile(filename, dtype=np.float32)\n",
    "pointcloud = pointcloud.reshape([-1,4])\n",
    "\n",
    "print('LiDAR data loaded as a variable pointcloud')\n",
    "\n",
    "str1= str('\\nLidar data file : ') + str(filename) + str('\\nSize of pointcloud data = ') + str(pointcloud.shape)\n",
    "print(str1)"
   ]
  },
  {
   "cell_type": "code",
   "execution_count": 2,
   "metadata": {},
   "outputs": [],
   "source": [
    "def voxel_downsample(pointloud,leaf_size):\n",
    "    import numpy as np \n",
    "    import pcl\n",
    "    \n",
    "    # Convert numpy array to pcd format ref:https://github.com/Sirokujira/python-pcl/blob/rc_patches4/examples/official/Filtering/VoxelGrid_160.py\n",
    "    p = pcl.PointCloud(np.array(pointcloud[:,0:3], dtype=np.float32))\n",
    "\n",
    "    # voxel downsampling from pcl lib.\n",
    "    sor = p.make_voxel_grid_filter()\n",
    "    sor.set_leaf_size(leaf_size,leaf_size,leaf_size)\n",
    "    cloud_filtered = sor.filter()\n",
    "\n",
    "    # Convert back pcd format pointcloud to numpy array\n",
    "    a = np.asarray(cloud_filtered)       # NumPy view on the cloud\n",
    "    return a"
   ]
  },
  {
   "cell_type": "code",
   "execution_count": 8,
   "metadata": {},
   "outputs": [],
   "source": [
    "def visualize_3d(pointcloud,cloud_color,Point_size):\n",
    "    import pptk\n",
    "    import numpy as np \n",
    "    \n",
    "    # Extract first three points as x y z inputs and 4th for reflectivity value\n",
    "    P = pointcloud[:,0:3]\n",
    "    \n",
    "    a = pointcloud.shape[0]\n",
    "    R = np.ones((a))*20\n",
    "    \n",
    "    if pointcloud.shape[1]==4:\n",
    "        R   = pointcloud[:,3]\n",
    "    \n",
    "    # define color channels\n",
    "    rgb = np.ones((P.shape))*cloud_color    # for grayish effect [200,200,200]\n",
    "    \n",
    "    rgb[:,0] = rgb[:,0]*(255-R)/255\n",
    "    rgb[:,1] = rgb[:,1]*(255-R)/255\n",
    "    rgb[:,2] = rgb[:,2]*(255-R)/255\n",
    "    \n",
    "    # Visualize point cloud\n",
    "    v = pptk.viewer(P)\n",
    "    v.attributes(rgb / 255, R)\n",
    "    v.set(lookat = [0,0,0])\n",
    "    v.set(point_size=Point_size)  #for better visualization point_size = 0.001"
   ]
  },
  {
   "cell_type": "code",
   "execution_count": 9,
   "metadata": {},
   "outputs": [
    {
     "name": "stdout",
     "output_type": "stream",
     "text": [
      "Pointcloud downsampled by 77.58 percentage\n"
     ]
    }
   ],
   "source": [
    "leaf_size = 0.20\n",
    "voxel_pointcloud = voxel_downsample(pointcloud,leaf_size)\n",
    "\n",
    "str_voxel_print  = str('Pointcloud downsampled by ') + str(100-float(int(voxel_pointcloud.shape[0]*10000/pointcloud.shape[0]))/100)+str(' percentage')\n",
    "print(str_voxel_print)\n",
    "\n",
    "visualize_3d(voxel_pointcloud,[200,200,200],0.001)"
   ]
  },
  {
   "cell_type": "code",
   "execution_count": 71,
   "metadata": {},
   "outputs": [
    {
     "data": {
      "text/plain": [
       "(8062, 3)"
      ]
     },
     "execution_count": 71,
     "metadata": {},
     "output_type": "execute_result"
    }
   ],
   "source": [
    "voxel_pointcloud.shape"
   ]
  }
 ],
 "metadata": {
  "kernelspec": {
   "display_name": "Python 2",
   "language": "python",
   "name": "python2"
  },
  "language_info": {
   "codemirror_mode": {
    "name": "ipython",
    "version": 2
   },
   "file_extension": ".py",
   "mimetype": "text/x-python",
   "name": "python",
   "nbconvert_exporter": "python",
   "pygments_lexer": "ipython2",
   "version": "2.7.16"
  }
 },
 "nbformat": 4,
 "nbformat_minor": 2
}
