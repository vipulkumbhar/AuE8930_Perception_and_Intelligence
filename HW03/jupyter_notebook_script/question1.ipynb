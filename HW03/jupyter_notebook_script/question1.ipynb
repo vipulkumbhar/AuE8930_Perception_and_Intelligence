{
 "cells": [
  {
   "cell_type": "markdown",
   "metadata": {},
   "source": [
    "# HW03\n",
    "### Question 1: Select a frame (or a few frames) of LiDAR data file, parse the file and visualize the 3D point cloud of this frame, colored by its reflectivity value."
   ]
  },
  {
   "cell_type": "code",
   "execution_count": 13,
   "metadata": {},
   "outputs": [
    {
     "name": "stdout",
     "output_type": "stream",
     "text": [
      "LiDAR data loaded as a variable pointcloud\n",
      "\n",
      "Lidar data file : bin_files/002_00000021.bin\n",
      "Size of pointcloud data = (94541, 4)\n"
     ]
    }
   ],
   "source": [
    "import numpy as np \n",
    "import argparse\n",
    "\n",
    "filename   = str(\"bin_files/002_00000021.bin\")\n",
    "pointcloud = np.fromfile(filename, dtype=np.float32)\n",
    "pointcloud = pointcloud.reshape([-1,4])\n",
    "\n",
    "print('LiDAR data loaded as a variable pointcloud')\n",
    "\n",
    "str1= str('\\nLidar data file : ') + str(filename) + str('\\nSize of pointcloud data = ') + str(pointcloud.shape)\n",
    "print(str1)"
   ]
  },
  {
   "cell_type": "code",
   "execution_count": 11,
   "metadata": {},
   "outputs": [],
   "source": [
    "def visualize_3d(pointcloud,cloud_color,Point_size):\n",
    "    import pptk\n",
    "    import numpy as np \n",
    "    \n",
    "    # Extract first three points as x y z inputs and reflectivity value\n",
    "    P = pointcloud[:,0:3]\n",
    "    \n",
    "    a = pointcloud.shape[0]\n",
    "    R = np.ones((a))*20\n",
    "    \n",
    "    if pointcloud.shape[1]==4:\n",
    "        R   = pointcloud[:,3]               # take intensity values from pointcloud for plot\n",
    "    # \n",
    "    rgb = np.ones((P.shape))*cloud_color    # for grayish effect based on reflectivity[200,200,200]\n",
    "    \n",
    "    rgb[:,0] = rgb[:,0]*(255-R)/255\n",
    "    rgb[:,1] = rgb[:,1]*(255-R)/255\n",
    "    rgb[:,2] = rgb[:,2]*(255-R)/255\n",
    "    \n",
    "    # Visualize point cloud\n",
    "    v = pptk.viewer(P)\n",
    "    v.attributes(rgb / 255, R)\n",
    "    v.set(lookat = [0,0,0])\n",
    "    v.set(point_size = Point_size)        #for better visualization point_size = 0.001\n",
    "    v.color_map('jet', scale=[0, 5])"
   ]
  },
  {
   "cell_type": "code",
   "execution_count": 14,
   "metadata": {},
   "outputs": [],
   "source": [
    "visualize_3d(pointcloud,[200,200,200],0.001)"
   ]
  }
 ],
 "metadata": {
  "kernelspec": {
   "display_name": "Python 2",
   "language": "python",
   "name": "python2"
  },
  "language_info": {
   "codemirror_mode": {
    "name": "ipython",
    "version": 2
   },
   "file_extension": ".py",
   "mimetype": "text/x-python",
   "name": "python",
   "nbconvert_exporter": "python",
   "pygments_lexer": "ipython2",
   "version": "2.7.16"
  }
 },
 "nbformat": 4,
 "nbformat_minor": 2
}
