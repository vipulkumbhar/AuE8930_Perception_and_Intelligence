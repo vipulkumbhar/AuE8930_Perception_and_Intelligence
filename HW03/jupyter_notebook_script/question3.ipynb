{
 "cells": [
  {
   "cell_type": "markdown",
   "metadata": {},
   "source": [
    "## HW03"
   ]
  },
  {
   "cell_type": "markdown",
   "metadata": {},
   "source": [
    "### Question 3: -\tApply RANSAC algorithm (or any others you prefer) to the 3D voxel space points to find a ground plane model. Print out your plane model parameter values result, visualize the plane with the points in the 3D "
   ]
  },
  {
   "cell_type": "code",
   "execution_count": 1,
   "metadata": {
    "scrolled": true
   },
   "outputs": [
    {
     "name": "stdout",
     "output_type": "stream",
     "text": [
      "LiDAR data loaded as a variable pointcloud\n",
      "\n",
      "Lidar data file : bin_files/002_00000001.bin\n",
      "Size of pointcloud data = (92246, 4)\n"
     ]
    }
   ],
   "source": [
    "import numpy as np \n",
    "import argparse\n",
    "\n",
    "filename   = str(\"bin_files/002_00000001.bin\")\n",
    "pointcloud = np.fromfile(filename, dtype=np.float32)\n",
    "pointcloud = pointcloud.reshape([-1,4])\n",
    "\n",
    "print('LiDAR data loaded as a variable pointcloud')\n",
    "\n",
    "str1= str('\\nLidar data file : ') + str(filename) + str('\\nSize of pointcloud data = ') + str(pointcloud.shape)\n",
    "print(str1)"
   ]
  },
  {
   "cell_type": "code",
   "execution_count": 14,
   "metadata": {},
   "outputs": [],
   "source": [
    "def visualize_3d(pointcloud,cloud_color,Point_size):\n",
    "    import pptk\n",
    "    import numpy as np \n",
    "    \n",
    "    # Extract first three points as x y z inputs and 4th for reflectivity value\n",
    "    P = pointcloud[:,0:3]\n",
    "    \n",
    "    a = pointcloud.shape[0]\n",
    "    R = np.ones((a))*20\n",
    "    \n",
    "    if pointcloud.shape[1]==4:\n",
    "        R   = pointcloud[:,3]\n",
    "    \n",
    "    # define color channels\n",
    "    rgb = np.ones((P.shape))*cloud_color    # for grayish effect [200,200,200]\n",
    "    \n",
    "    rgb[:,0] = rgb[:,0]*(255-R)/255\n",
    "    rgb[:,1] = rgb[:,1]*(255-R)/255\n",
    "    rgb[:,2] = rgb[:,2]*(255-R)/255\n",
    "    \n",
    "    if len(cloud_color)>3:\n",
    "        rgb = cloud_color\n",
    "    \n",
    "    # Visualize point cloud\n",
    "    v = pptk.viewer(P)\n",
    "    v.attributes(rgb / 255, R)\n",
    "    v.set(floor_color = [0,0,0,0.5])\n",
    "    v.set(lookat = [0,0,0])             # set zero /ego vehicle coordinate\n",
    "    v.set(point_size=Point_size)        # for better visualization point_size = 0.001"
   ]
  },
  {
   "cell_type": "code",
   "execution_count": 3,
   "metadata": {},
   "outputs": [
    {
     "name": "stdout",
     "output_type": "stream",
     "text": [
      "Model coefficients: 0.0145805468783 0.00373710296117 0.99988669157 1.55821990967\n",
      "Model inliers: 39196\n",
      "4\n"
     ]
    }
   ],
   "source": [
    "import pcl\n",
    "\n",
    "cloud = pcl.PointCloud(np.array(pointcloud[:,0:3], dtype=np.float32))\n",
    "seg   = cloud.make_segmenter_normals(ksearch=50)\n",
    "\n",
    "seg.set_optimize_coefficients(True)\n",
    "seg.set_model_type(pcl.SACMODEL_PLANE)\n",
    "seg.set_normal_distance_weight(0.07)\n",
    "seg.set_method_type(pcl.SAC_RANSAC)\n",
    "\n",
    "seg.set_max_iterations(100)\n",
    "seg.set_distance_threshold(0.25)\n",
    "\n",
    "inliers, model = seg.segment()\n",
    "\n",
    "if len(inliers) == 0:\n",
    "        print('Could not estimate a planar model for the given dataset.')\n",
    "        exit(0)\n",
    "\n",
    "#Points here is a nx3 numpy array with n 3d points. \n",
    "#Model will be [a, b, c, d] such that ax + by + cz + d = 0\n",
    "print('Model coefficients: ' + str(model[0]) + ' ' + str(model[1]) + ' ' + str(model[2]) + ' ' + str(model[3]))\n",
    "print('Model inliers: ' + str(len(inliers)))\n",
    "print(len(model))"
   ]
  },
  {
   "cell_type": "markdown",
   "metadata": {},
   "source": [
    "### Visualize the plane with the points in the 3D  "
   ]
  },
  {
   "cell_type": "code",
   "execution_count": 10,
   "metadata": {},
   "outputs": [],
   "source": [
    "# Visualize ground plane points\n",
    "ground_pointcloud = pointcloud[inliers,:]\n",
    "visualize_3d(ground_pointcloud,[200,200,200],0.001) "
   ]
  },
  {
   "cell_type": "markdown",
   "metadata": {},
   "source": [
    "### \tRemove all the ground planes points in the 3D voxel space points, visualize all the off-ground points in the 3D  "
   ]
  },
  {
   "cell_type": "code",
   "execution_count": 11,
   "metadata": {},
   "outputs": [],
   "source": [
    "abc = np.arange(0,pointcloud.shape[0],1)\n",
    "outliers = np.delete(abc,inliers)\n",
    "# Visualize off ground plane points\n",
    "off_ground_pointcloud = pointcloud[outliers,:]\n",
    "visualize_3d(off_ground_pointcloud,[200,200,200],0.001) "
   ]
  },
  {
   "cell_type": "markdown",
   "metadata": {},
   "source": [
    "### Visualize ground points and off groud points"
   ]
  },
  {
   "cell_type": "code",
   "execution_count": 12,
   "metadata": {},
   "outputs": [],
   "source": [
    "ground_pointcloud.shape\n",
    "off_ground_pointcloud.shape\n",
    "\n",
    "final_pointcloud       = np.empty([0,4])\n",
    "cloud_color            = np.empty([0,3])\n",
    "\n",
    "final_pointcloud       = np.append(final_pointcloud,ground_pointcloud,axis=0)\n",
    "ground_cloud_color     = np.ones([ground_pointcloud.shape[0],3])*[0,150,0]\n",
    "cloud_color            = np.append(cloud_color,ground_cloud_color,axis=0)\n",
    "\n",
    "final_pointcloud       = np.append(final_pointcloud,off_ground_pointcloud,axis=0)\n",
    "off_ground_cloud_color = np.ones([off_ground_pointcloud.shape[0],3])*[200,200,200]\n",
    "cloud_color            = np.append(cloud_color,off_ground_cloud_color,axis=0)"
   ]
  },
  {
   "cell_type": "code",
   "execution_count": 15,
   "metadata": {},
   "outputs": [],
   "source": [
    "visualize_3d(final_pointcloud,cloud_color,0.001)"
   ]
  },
  {
   "cell_type": "code",
   "execution_count": null,
   "metadata": {},
   "outputs": [],
   "source": []
  }
 ],
 "metadata": {
  "kernelspec": {
   "display_name": "Python 2",
   "language": "python",
   "name": "python2"
  },
  "language_info": {
   "codemirror_mode": {
    "name": "ipython",
    "version": 2
   },
   "file_extension": ".py",
   "mimetype": "text/x-python",
   "name": "python",
   "nbconvert_exporter": "python",
   "pygments_lexer": "ipython2",
   "version": "2.7.16"
  }
 },
 "nbformat": 4,
 "nbformat_minor": 2
}
